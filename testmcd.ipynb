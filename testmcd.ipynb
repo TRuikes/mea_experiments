{
 "cells": [
  {
   "cell_type": "code",
   "id": "initial_id",
   "metadata": {
    "collapsed": true,
    "ExecuteTime": {
     "end_time": "2025-05-26T09:45:25.616567Z",
     "start_time": "2025-05-26T09:45:25.272151Z"
    }
   },
   "source": [
    "from IPython.core.interactiveshell import InteractiveShell\n",
    "InteractiveShell.ast_node_interactivity = 'all'\n",
    "\n",
    "import os\n",
    "import numpy as np\n",
    "\n",
    "\n",
    "# MCS PyData tools\n",
    "import McsPy\n",
    "import McsPy.McsData\n",
    "from McsPy import ureg, Q_\n",
    "\n",
    "# VISUALIZATION TOOLS\n",
    "import matplotlib.pyplot as plt\n",
    "%matplotlib inline\n",
    "\n",
    "# SUPRESS WARNINGS\n",
    "import warnings\n",
    "warnings.filterwarnings('ignore')\n",
    "\n",
    "# autoreload modules\n",
    "%load_ext autoreload\n",
    "%autoreload 2\n",
    "\n"
   ],
   "outputs": [
    {
     "name": "stdout",
     "output_type": "stream",
     "text": [
      "The autoreload extension is already loaded. To reload it, use:\n",
      "  %reload_ext autoreload\n"
     ]
    }
   ],
   "execution_count": 3
  },
  {
   "metadata": {
    "ExecuteTime": {
     "end_time": "2025-05-26T09:45:51.043316Z",
     "start_time": "2025-05-26T09:45:50.822455Z"
    }
   },
   "cell_type": "code",
   "source": [
    "test_data_folder = r'C:\\test_read_mcd' # adjust this to your local environment\n",
    "file_path = os.path.join(test_data_folder, '20250513_davis_OD1_2000ms_2-30_noblocker.h5')"
   ],
   "id": "10f715642e52dc52",
   "outputs": [],
   "execution_count": 4
  },
  {
   "metadata": {
    "ExecuteTime": {
     "end_time": "2025-05-26T09:46:29.358332Z",
     "start_time": "2025-05-26T09:46:29.189789Z"
    }
   },
   "cell_type": "code",
   "source": [
    "file = McsPy.McsData.RawData(file_path)\n",
    "electrode_stream = file.recordings[0].analog_streams[0]"
   ],
   "id": "ead86ebf05e3754f",
   "outputs": [
    {
     "name": "stdout",
     "output_type": "stream",
     "text": [
      "Recording_0 <HDF5 group \"/Data/Recording_0\" (2 members)>\n",
      "Stream_0 <HDF5 group \"/Data/Recording_0/AnalogStream/Stream_0\" (3 members)>\n",
      "ChannelData <HDF5 dataset \"ChannelData\": shape (1, 250000), type \"<i4\">\n",
      "ChannelDataTimeStamps <HDF5 dataset \"ChannelDataTimeStamps\": shape (1, 3), type \"<i8\">\n",
      "InfoChannel <HDF5 dataset \"InfoChannel\": shape (1,), type \"|V108\">\n",
      "Stream_1 <HDF5 group \"/Data/Recording_0/AnalogStream/Stream_1\" (3 members)>\n",
      "ChannelData <HDF5 dataset \"ChannelData\": shape (256, 250000), type \"<i4\">\n",
      "ChannelDataTimeStamps <HDF5 dataset \"ChannelDataTimeStamps\": shape (1, 3), type \"<i8\">\n",
      "InfoChannel <HDF5 dataset \"InfoChannel\": shape (256,), type \"|V108\">\n"
     ]
    }
   ],
   "execution_count": 8
  }
 ],
 "metadata": {
  "kernelspec": {
   "display_name": "Python 3",
   "language": "python",
   "name": "python3"
  },
  "language_info": {
   "codemirror_mode": {
    "name": "ipython",
    "version": 2
   },
   "file_extension": ".py",
   "mimetype": "text/x-python",
   "name": "python",
   "nbconvert_exporter": "python",
   "pygments_lexer": "ipython2",
   "version": "2.7.6"
  }
 },
 "nbformat": 4,
 "nbformat_minor": 5
}
